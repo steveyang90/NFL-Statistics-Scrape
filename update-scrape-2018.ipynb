{
 "cells": [
  {
   "cell_type": "code",
   "execution_count": 32,
   "metadata": {},
   "outputs": [
    {
     "name": "stdout",
     "output_type": "stream",
     "text": [
      "The autoreload extension is already loaded. To reload it, use:\n",
      "  %reload_ext autoreload\n"
     ]
    }
   ],
   "source": [
    "%load_ext autoreload"
   ]
  },
  {
   "cell_type": "code",
   "execution_count": 44,
   "metadata": {
    "collapsed": true
   },
   "outputs": [],
   "source": [
    "%autoreload"
   ]
  },
  {
   "cell_type": "code",
   "execution_count": 40,
   "metadata": {
    "collapsed": true
   },
   "outputs": [],
   "source": [
    "from Website_to_CSV_Functions import *\n",
    "from Player_Class import *\n",
    "import pathlib\n",
    "import time, random"
   ]
  },
  {
   "cell_type": "code",
   "execution_count": 35,
   "metadata": {
    "collapsed": true
   },
   "outputs": [],
   "source": [
    "DATAPATH=pathlib.Path('./data')\n",
    "DATAPATH.mkdir(exist_ok=True)"
   ]
  },
  {
   "cell_type": "code",
   "execution_count": 84,
   "metadata": {},
   "outputs": [],
   "source": [
    "assert DATAPATH.exists()"
   ]
  },
  {
   "cell_type": "code",
   "execution_count": 17,
   "metadata": {},
   "outputs": [
    {
     "name": "stdout",
     "output_type": "stream",
     "text": [
      "Getting current players whose last name starts with A\n",
      "Getting current players whose last name starts with B\n",
      "Getting current players whose last name starts with C\n",
      "Getting current players whose last name starts with D\n",
      "Getting current players whose last name starts with E\n",
      "Getting current players whose last name starts with F\n",
      "Getting current players whose last name starts with G\n",
      "Getting current players whose last name starts with H\n",
      "Getting current players whose last name starts with I\n",
      "Getting current players whose last name starts with J\n",
      "Getting current players whose last name starts with K\n",
      "Getting current players whose last name starts with L\n",
      "Getting current players whose last name starts with M\n",
      "Getting current players whose last name starts with N\n",
      "Getting current players whose last name starts with O\n",
      "Getting current players whose last name starts with P\n",
      "Getting current players whose last name starts with Q\n",
      "Getting current players whose last name starts with R\n",
      "Getting current players whose last name starts with S\n",
      "Getting current players whose last name starts with T\n",
      "Getting current players whose last name starts with U\n",
      "Getting current players whose last name starts with V\n",
      "Getting current players whose last name starts with W\n",
      "Getting current players whose last name starts with X\n",
      "Getting current players whose last name starts with Y\n",
      "Getting current players whose last name starts with Z\n"
     ]
    }
   ],
   "source": [
    "Players = Get_and_Store_All_Players_Names_and_Ids(DATAPATH/'Player_Ids_Urls.csv', active_only=True)"
   ]
  },
  {
   "cell_type": "code",
   "execution_count": 25,
   "metadata": {},
   "outputs": [
    {
     "data": {
      "text/plain": [
       "<Player: Abdullah, Ameer>"
      ]
     },
     "execution_count": 25,
     "metadata": {},
     "output_type": "execute_result"
    }
   ],
   "source": [
    "test_player = Players.get('ameerabdullah/2552374')\n",
    "test_player."
   ]
  },
  {
   "cell_type": "code",
   "execution_count": 26,
   "metadata": {
    "collapsed": true
   },
   "outputs": [],
   "source": [
    "player = Player_Basic_Stats(test_player)\n",
    "player.Get_and_Store_Basic_Stats(DATAPATH/'Basic_Stats.csv')"
   ]
  },
  {
   "cell_type": "code",
   "execution_count": 43,
   "metadata": {},
   "outputs": [],
   "source": [
    "player = Career_Stats(test_player)\n",
    "player.Get_and_Store_Career_Stats(filedir=DATAPATH)"
   ]
  },
  {
   "cell_type": "code",
   "execution_count": 45,
   "metadata": {
    "collapsed": true
   },
   "outputs": [],
   "source": [
    "player = Game_Logs(test_player)\n",
    "player.Get_and_Store_Game_Logs(filedir=DATAPATH)"
   ]
  },
  {
   "cell_type": "code",
   "execution_count": 79,
   "metadata": {},
   "outputs": [
    {
     "data": {
      "text/plain": [
       "0.9922910115120227"
      ]
     },
     "execution_count": 79,
     "metadata": {},
     "output_type": "execute_result"
    }
   ],
   "source": [
    "random.uniform(0.5,1)"
   ]
  },
  {
   "cell_type": "code",
   "execution_count": 50,
   "metadata": {},
   "outputs": [
    {
     "name": "stdout",
     "output_type": "stream",
     "text": [
      "hello\n",
      "hello\n",
      "hello\n",
      "hello\n",
      "hello\n",
      "hello\n",
      "hello\n",
      "hello\n",
      "hello\n",
      "hello\n"
     ]
    }
   ],
   "source": [
    "for i in range(10):\n",
    "    print(\"hello\")\n"
   ]
  }
 ],
 "metadata": {
  "kernelspec": {
   "display_name": "Python 3",
   "language": "python",
   "name": "python3"
  },
  "language_info": {
   "codemirror_mode": {
    "name": "ipython",
    "version": 3
   },
   "file_extension": ".py",
   "mimetype": "text/x-python",
   "name": "python",
   "nbconvert_exporter": "python",
   "pygments_lexer": "ipython3",
   "version": "3.6.3"
  },
  "toc": {
   "base_numbering": 1,
   "nav_menu": {},
   "number_sections": true,
   "sideBar": true,
   "skip_h1_title": true,
   "title_cell": "Table of Contents",
   "title_sidebar": "Contents",
   "toc_cell": false,
   "toc_position": {},
   "toc_section_display": true,
   "toc_window_display": false
  }
 },
 "nbformat": 4,
 "nbformat_minor": 2
}
